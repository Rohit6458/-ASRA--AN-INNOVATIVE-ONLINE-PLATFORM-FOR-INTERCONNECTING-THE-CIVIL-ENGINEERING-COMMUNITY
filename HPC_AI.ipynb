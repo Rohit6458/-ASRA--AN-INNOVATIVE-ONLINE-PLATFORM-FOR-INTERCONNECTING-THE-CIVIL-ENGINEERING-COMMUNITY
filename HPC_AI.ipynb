{
  "nbformat": 4,
  "nbformat_minor": 0,
  "metadata": {
    "colab": {
      "provenance": [],
      "authorship_tag": "ABX9TyMW3RDC30tC5fnmGVxaWzh4",
      "include_colab_link": true
    },
    "kernelspec": {
      "name": "python3",
      "display_name": "Python 3"
    },
    "language_info": {
      "name": "python"
    }
  },
  "cells": [
    {
      "cell_type": "markdown",
      "metadata": {
        "id": "view-in-github",
        "colab_type": "text"
      },
      "source": [
        "<a href=\"https://colab.research.google.com/github/Rohit6458/-ASRA--AN-INNOVATIVE-ONLINE-PLATFORM-FOR-INTERCONNECTING-THE-CIVIL-ENGINEERING-COMMUNITY/blob/main/HPC_AI.ipynb\" target=\"_parent\"><img src=\"https://colab.research.google.com/assets/colab-badge.svg\" alt=\"Open In Colab\"/></a>"
      ]
    },
    {
      "cell_type": "code",
      "execution_count": 1,
      "metadata": {
        "id": "ZCtiq2v4-JnY"
      },
      "outputs": [],
      "source": [
        "from tensorflow.keras.datasets import imdb"
      ]
    },
    {
      "cell_type": "code",
      "source": [
        "(train_data, train_label), (test_data, test_label) = imdb.load_data(num_words = 10000)"
      ],
      "metadata": {
        "colab": {
          "base_uri": "https://localhost:8080/"
        },
        "id": "L9JVwYMw-RBx",
        "outputId": "406fcf79-3b0f-4bf2-cb51-7a3021786976"
      },
      "execution_count": 2,
      "outputs": [
        {
          "output_type": "stream",
          "name": "stdout",
          "text": [
            "Downloading data from https://storage.googleapis.com/tensorflow/tf-keras-datasets/imdb.npz\n",
            "17464789/17464789 [==============================] - 0s 0us/step\n"
          ]
        }
      ]
    },
    {
      "cell_type": "code",
      "source": [
        "import numpy as np\n",
        "\n",
        "def vectorize_sequences(sequences, dimensions = 10000):\n",
        "  results = np.zeros((len(sequences), dimensions))\n",
        "  for i,sequences in enumerate(sequences):\n",
        "    results[i, sequences] = 1\n",
        "  return results\n",
        "\n",
        "x_train = vectorize_sequences(train_data)\n",
        "y_train = vectorize_sequences(test_data)"
      ],
      "metadata": {
        "id": "BKqwmLhb-VAi"
      },
      "execution_count": 3,
      "outputs": []
    },
    {
      "cell_type": "code",
      "source": [
        "y_train = np.asarray(train_label).astype('float32')\n",
        "y_test = np.asarray(test_label).astype('float32')"
      ],
      "metadata": {
        "id": "6FgQodX_-aA0"
      },
      "execution_count": 4,
      "outputs": []
    },
    {
      "cell_type": "code",
      "source": [
        "from tensorflow.keras.models import Sequential\n",
        "from tensorflow.keras.layers import Dense"
      ],
      "metadata": {
        "id": "jVhOXBp_-fC1"
      },
      "execution_count": 5,
      "outputs": []
    },
    {
      "cell_type": "code",
      "source": [
        "model = Sequential()\n",
        "model.add(Dense(16, input_shape=(10000, ), activation = \"relu\"))\n",
        "model.add(Dense(16, activation = \"relu\"))\n",
        "model.add(Dense(1, activation = \"sigmoid\"))"
      ],
      "metadata": {
        "id": "7y-Rup0b-ii1"
      },
      "execution_count": 6,
      "outputs": []
    },
    {
      "cell_type": "code",
      "source": [
        "model.compile(optimizer='adam', loss = 'mse', metrics = ['accuracy'])"
      ],
      "metadata": {
        "id": "yBbZxZ4P-qKU"
      },
      "execution_count": 7,
      "outputs": []
    },
    {
      "cell_type": "code",
      "source": [
        "model.summary()"
      ],
      "metadata": {
        "colab": {
          "base_uri": "https://localhost:8080/"
        },
        "id": "gJxsulnR-uvB",
        "outputId": "f08de1be-7c25-4283-a4fa-ba864acad45a"
      },
      "execution_count": 8,
      "outputs": [
        {
          "output_type": "stream",
          "name": "stdout",
          "text": [
            "Model: \"sequential\"\n",
            "_________________________________________________________________\n",
            " Layer (type)                Output Shape              Param #   \n",
            "=================================================================\n",
            " dense (Dense)               (None, 16)                160016    \n",
            "                                                                 \n",
            " dense_1 (Dense)             (None, 16)                272       \n",
            "                                                                 \n",
            " dense_2 (Dense)             (None, 1)                 17        \n",
            "                                                                 \n",
            "=================================================================\n",
            "Total params: 160,305\n",
            "Trainable params: 160,305\n",
            "Non-trainable params: 0\n",
            "_________________________________________________________________\n"
          ]
        }
      ]
    },
    {
      "cell_type": "code",
      "source": [
        "history = model.fit(x_train, y_train, validation_split = 0.3, epochs = 20, verbose = 1, batch_size = 512)"
      ],
      "metadata": {
        "colab": {
          "base_uri": "https://localhost:8080/"
        },
        "id": "ACu5js-p-y-a",
        "outputId": "a70bfa62-82db-40ef-8d76-0cffd792de6c"
      },
      "execution_count": 9,
      "outputs": [
        {
          "output_type": "stream",
          "name": "stdout",
          "text": [
            "Epoch 1/20\n",
            "35/35 [==============================] - 3s 63ms/step - loss: 0.1968 - accuracy: 0.7720 - val_loss: 0.1357 - val_accuracy: 0.8648\n",
            "Epoch 2/20\n",
            "35/35 [==============================] - 1s 42ms/step - loss: 0.1007 - accuracy: 0.8965 - val_loss: 0.0932 - val_accuracy: 0.8880\n",
            "Epoch 3/20\n",
            "35/35 [==============================] - 1s 43ms/step - loss: 0.0664 - accuracy: 0.9279 - val_loss: 0.0829 - val_accuracy: 0.8928\n",
            "Epoch 4/20\n",
            "35/35 [==============================] - 1s 41ms/step - loss: 0.0495 - accuracy: 0.9475 - val_loss: 0.0812 - val_accuracy: 0.8895\n",
            "Epoch 5/20\n",
            "35/35 [==============================] - 2s 43ms/step - loss: 0.0386 - accuracy: 0.9621 - val_loss: 0.0823 - val_accuracy: 0.8875\n",
            "Epoch 6/20\n",
            "35/35 [==============================] - 1s 41ms/step - loss: 0.0301 - accuracy: 0.9728 - val_loss: 0.0841 - val_accuracy: 0.8848\n",
            "Epoch 7/20\n",
            "35/35 [==============================] - 2s 68ms/step - loss: 0.0229 - accuracy: 0.9813 - val_loss: 0.0864 - val_accuracy: 0.8835\n",
            "Epoch 8/20\n",
            "35/35 [==============================] - 2s 51ms/step - loss: 0.0173 - accuracy: 0.9866 - val_loss: 0.0891 - val_accuracy: 0.8793\n",
            "Epoch 9/20\n",
            "35/35 [==============================] - 2s 44ms/step - loss: 0.0132 - accuracy: 0.9902 - val_loss: 0.0921 - val_accuracy: 0.8795\n",
            "Epoch 10/20\n",
            "35/35 [==============================] - 1s 43ms/step - loss: 0.0104 - accuracy: 0.9925 - val_loss: 0.0940 - val_accuracy: 0.8781\n",
            "Epoch 11/20\n",
            "35/35 [==============================] - 2s 43ms/step - loss: 0.0085 - accuracy: 0.9937 - val_loss: 0.0956 - val_accuracy: 0.8767\n",
            "Epoch 12/20\n",
            "35/35 [==============================] - 1s 42ms/step - loss: 0.0071 - accuracy: 0.9947 - val_loss: 0.0975 - val_accuracy: 0.8752\n",
            "Epoch 13/20\n",
            "35/35 [==============================] - 1s 42ms/step - loss: 0.0062 - accuracy: 0.9953 - val_loss: 0.0990 - val_accuracy: 0.8739\n",
            "Epoch 14/20\n",
            "35/35 [==============================] - 1s 42ms/step - loss: 0.0055 - accuracy: 0.9958 - val_loss: 0.1000 - val_accuracy: 0.8740\n",
            "Epoch 15/20\n",
            "35/35 [==============================] - 2s 62ms/step - loss: 0.0050 - accuracy: 0.9959 - val_loss: 0.1009 - val_accuracy: 0.8728\n",
            "Epoch 16/20\n",
            "35/35 [==============================] - 2s 54ms/step - loss: 0.0047 - accuracy: 0.9961 - val_loss: 0.1019 - val_accuracy: 0.8728\n",
            "Epoch 17/20\n",
            "35/35 [==============================] - 1s 41ms/step - loss: 0.0045 - accuracy: 0.9962 - val_loss: 0.1026 - val_accuracy: 0.8716\n",
            "Epoch 18/20\n",
            "35/35 [==============================] - 2s 43ms/step - loss: 0.0043 - accuracy: 0.9962 - val_loss: 0.1034 - val_accuracy: 0.8723\n",
            "Epoch 19/20\n",
            "35/35 [==============================] - 2s 43ms/step - loss: 0.0042 - accuracy: 0.9962 - val_loss: 0.1040 - val_accuracy: 0.8719\n",
            "Epoch 20/20\n",
            "35/35 [==============================] - 1s 41ms/step - loss: 0.0041 - accuracy: 0.9963 - val_loss: 0.1045 - val_accuracy: 0.8708\n"
          ]
        }
      ]
    }
  ]
}